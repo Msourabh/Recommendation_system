{
 "cells": [
  {
   "cell_type": "code",
   "execution_count": 1,
   "metadata": {},
   "outputs": [],
   "source": [
    "import pandas as pd\n",
    "import numpy as np\n",
    "import matplotlib.pyplot as plt"
   ]
  },
  {
   "cell_type": "code",
   "execution_count": 2,
   "metadata": {},
   "outputs": [],
   "source": [
    "df = pd.read_csv('ml-latest-small/ratings.csv')"
   ]
  },
  {
   "cell_type": "code",
   "execution_count": 3,
   "metadata": {},
   "outputs": [
    {
     "data": {
      "text/html": [
       "<div>\n",
       "<style scoped>\n",
       "    .dataframe tbody tr th:only-of-type {\n",
       "        vertical-align: middle;\n",
       "    }\n",
       "\n",
       "    .dataframe tbody tr th {\n",
       "        vertical-align: top;\n",
       "    }\n",
       "\n",
       "    .dataframe thead th {\n",
       "        text-align: right;\n",
       "    }\n",
       "</style>\n",
       "<table border=\"1\" class=\"dataframe\">\n",
       "  <thead>\n",
       "    <tr style=\"text-align: right;\">\n",
       "      <th></th>\n",
       "      <th>userId</th>\n",
       "      <th>movieId</th>\n",
       "      <th>rating</th>\n",
       "      <th>timestamp</th>\n",
       "    </tr>\n",
       "  </thead>\n",
       "  <tbody>\n",
       "    <tr>\n",
       "      <th>0</th>\n",
       "      <td>1</td>\n",
       "      <td>1</td>\n",
       "      <td>4.0</td>\n",
       "      <td>964982703</td>\n",
       "    </tr>\n",
       "    <tr>\n",
       "      <th>1</th>\n",
       "      <td>1</td>\n",
       "      <td>3</td>\n",
       "      <td>4.0</td>\n",
       "      <td>964981247</td>\n",
       "    </tr>\n",
       "    <tr>\n",
       "      <th>2</th>\n",
       "      <td>1</td>\n",
       "      <td>6</td>\n",
       "      <td>4.0</td>\n",
       "      <td>964982224</td>\n",
       "    </tr>\n",
       "    <tr>\n",
       "      <th>3</th>\n",
       "      <td>1</td>\n",
       "      <td>47</td>\n",
       "      <td>5.0</td>\n",
       "      <td>964983815</td>\n",
       "    </tr>\n",
       "    <tr>\n",
       "      <th>4</th>\n",
       "      <td>1</td>\n",
       "      <td>50</td>\n",
       "      <td>5.0</td>\n",
       "      <td>964982931</td>\n",
       "    </tr>\n",
       "  </tbody>\n",
       "</table>\n",
       "</div>"
      ],
      "text/plain": [
       "   userId  movieId  rating  timestamp\n",
       "0       1        1     4.0  964982703\n",
       "1       1        3     4.0  964981247\n",
       "2       1        6     4.0  964982224\n",
       "3       1       47     5.0  964983815\n",
       "4       1       50     5.0  964982931"
      ]
     },
     "execution_count": 3,
     "metadata": {},
     "output_type": "execute_result"
    }
   ],
   "source": [
    "df.head()"
   ]
  },
  {
   "cell_type": "code",
   "execution_count": 4,
   "metadata": {},
   "outputs": [
    {
     "data": {
      "text/html": [
       "<div>\n",
       "<style scoped>\n",
       "    .dataframe tbody tr th:only-of-type {\n",
       "        vertical-align: middle;\n",
       "    }\n",
       "\n",
       "    .dataframe tbody tr th {\n",
       "        vertical-align: top;\n",
       "    }\n",
       "\n",
       "    .dataframe thead th {\n",
       "        text-align: right;\n",
       "    }\n",
       "</style>\n",
       "<table border=\"1\" class=\"dataframe\">\n",
       "  <thead>\n",
       "    <tr style=\"text-align: right;\">\n",
       "      <th></th>\n",
       "      <th>movieId</th>\n",
       "      <th>rating</th>\n",
       "      <th>timestamp</th>\n",
       "    </tr>\n",
       "    <tr>\n",
       "      <th>userId</th>\n",
       "      <th></th>\n",
       "      <th></th>\n",
       "      <th></th>\n",
       "    </tr>\n",
       "  </thead>\n",
       "  <tbody>\n",
       "    <tr>\n",
       "      <th>1</th>\n",
       "      <td>232</td>\n",
       "      <td>232</td>\n",
       "      <td>232</td>\n",
       "    </tr>\n",
       "    <tr>\n",
       "      <th>2</th>\n",
       "      <td>29</td>\n",
       "      <td>29</td>\n",
       "      <td>29</td>\n",
       "    </tr>\n",
       "    <tr>\n",
       "      <th>3</th>\n",
       "      <td>39</td>\n",
       "      <td>39</td>\n",
       "      <td>39</td>\n",
       "    </tr>\n",
       "    <tr>\n",
       "      <th>4</th>\n",
       "      <td>216</td>\n",
       "      <td>216</td>\n",
       "      <td>216</td>\n",
       "    </tr>\n",
       "    <tr>\n",
       "      <th>5</th>\n",
       "      <td>44</td>\n",
       "      <td>44</td>\n",
       "      <td>44</td>\n",
       "    </tr>\n",
       "  </tbody>\n",
       "</table>\n",
       "</div>"
      ],
      "text/plain": [
       "        movieId  rating  timestamp\n",
       "userId                            \n",
       "1           232     232        232\n",
       "2            29      29         29\n",
       "3            39      39         39\n",
       "4           216     216        216\n",
       "5            44      44         44"
      ]
     },
     "execution_count": 4,
     "metadata": {},
     "output_type": "execute_result"
    }
   ],
   "source": [
    "user_movie_count = df.groupby(['userId']).count().reindex()\n",
    "user_movie_count.head()"
   ]
  },
  {
   "cell_type": "code",
   "execution_count": 5,
   "metadata": {},
   "outputs": [
    {
     "name": "stdout",
     "output_type": "stream",
     "text": [
      "596\n",
      "[1, 2, 3, 4, 5]\n"
     ]
    }
   ],
   "source": [
    "movie_ids = list(df.movieId.unique())\n",
    "movie_ids.sort()\n",
    "selected_users = list(user_movie_count[user_movie_count.rating>20].index)\n",
    "print(len(selected_users))\n",
    "print(selected_users[:5])\n",
    "df = df[df.userId.isin(selected_users)]"
   ]
  },
  {
   "cell_type": "code",
   "execution_count": 6,
   "metadata": {},
   "outputs": [],
   "source": [
    "test = pd.DataFrame(columns = df.columns)\n",
    "train = df.copy()\n",
    "for id in selected_users:\n",
    "    ndf = df[df.userId == id]\n",
    "    tmp = ndf.iloc[:ndf.shape[0]//4,:]\n",
    "    test =pd.concat([test,tmp],ignore_index=True)\n",
    "    movie_ids = list(tmp.movieId)\n",
    "    for mid in movie_ids:\n",
    "        train.loc[(train.userId == id)&(train.movieId==mid),'rating'] = 0  "
   ]
  },
  {
   "cell_type": "code",
   "execution_count": 7,
   "metadata": {},
   "outputs": [
    {
     "name": "stdout",
     "output_type": "stream",
     "text": [
      "train size:  (100556, 4)\n",
      "test size:  (24913, 4)\n"
     ]
    }
   ],
   "source": [
    "print(\"train size: \",train.shape)\n",
    "print(\"test size: \", test.shape)"
   ]
  },
  {
   "cell_type": "code",
   "execution_count": 8,
   "metadata": {},
   "outputs": [],
   "source": [
    "user_item = pd.pivot_table(train,values = 'rating',index=['userId'],columns = ['movieId'],fill_value=0)"
   ]
  },
  {
   "cell_type": "code",
   "execution_count": 11,
   "metadata": {},
   "outputs": [
    {
     "ename": "ValueError",
     "evalue": "5 is not in list",
     "output_type": "error",
     "traceback": [
      "\u001b[0;31m---------------------------------------------------------------------------\u001b[0m",
      "\u001b[0;31mValueError\u001b[0m                                Traceback (most recent call last)",
      "\u001b[0;32m<ipython-input-11-1123edd9bd97>\u001b[0m in \u001b[0;36m<module>\u001b[0;34m\u001b[0m\n\u001b[1;32m      3\u001b[0m \u001b[0;32mdef\u001b[0m \u001b[0mget_user_index\u001b[0m\u001b[0;34m(\u001b[0m\u001b[0muser_id\u001b[0m\u001b[0;34m)\u001b[0m\u001b[0;34m:\u001b[0m\u001b[0;34m\u001b[0m\u001b[0;34m\u001b[0m\u001b[0m\n\u001b[1;32m      4\u001b[0m     \u001b[0;32mreturn\u001b[0m \u001b[0mselected_users\u001b[0m\u001b[0;34m.\u001b[0m\u001b[0mindex\u001b[0m\u001b[0;34m(\u001b[0m\u001b[0muser_id\u001b[0m\u001b[0;34m)\u001b[0m\u001b[0;34m\u001b[0m\u001b[0;34m\u001b[0m\u001b[0m\n\u001b[0;32m----> 5\u001b[0;31m \u001b[0muser_item\u001b[0m\u001b[0;34m.\u001b[0m\u001b[0miloc\u001b[0m\u001b[0;34m[\u001b[0m\u001b[0mget_user_index\u001b[0m\u001b[0;34m(\u001b[0m\u001b[0;36m2\u001b[0m\u001b[0;34m)\u001b[0m\u001b[0;34m,\u001b[0m\u001b[0mget_movie_index\u001b[0m\u001b[0;34m(\u001b[0m\u001b[0;36m5\u001b[0m\u001b[0;34m)\u001b[0m\u001b[0;34m]\u001b[0m\u001b[0;34m\u001b[0m\u001b[0;34m\u001b[0m\u001b[0m\n\u001b[0m",
      "\u001b[0;32m<ipython-input-11-1123edd9bd97>\u001b[0m in \u001b[0;36mget_movie_index\u001b[0;34m(movie_id)\u001b[0m\n\u001b[1;32m      1\u001b[0m \u001b[0;32mdef\u001b[0m \u001b[0mget_movie_index\u001b[0m\u001b[0;34m(\u001b[0m\u001b[0mmovie_id\u001b[0m\u001b[0;34m)\u001b[0m\u001b[0;34m:\u001b[0m\u001b[0;34m\u001b[0m\u001b[0;34m\u001b[0m\u001b[0m\n\u001b[0;32m----> 2\u001b[0;31m     \u001b[0;32mreturn\u001b[0m \u001b[0mmovie_ids\u001b[0m\u001b[0;34m.\u001b[0m\u001b[0mindex\u001b[0m\u001b[0;34m(\u001b[0m\u001b[0mmovie_id\u001b[0m\u001b[0;34m)\u001b[0m\u001b[0;34m\u001b[0m\u001b[0;34m\u001b[0m\u001b[0m\n\u001b[0m\u001b[1;32m      3\u001b[0m \u001b[0;32mdef\u001b[0m \u001b[0mget_user_index\u001b[0m\u001b[0;34m(\u001b[0m\u001b[0muser_id\u001b[0m\u001b[0;34m)\u001b[0m\u001b[0;34m:\u001b[0m\u001b[0;34m\u001b[0m\u001b[0;34m\u001b[0m\u001b[0m\n\u001b[1;32m      4\u001b[0m     \u001b[0;32mreturn\u001b[0m \u001b[0mselected_users\u001b[0m\u001b[0;34m.\u001b[0m\u001b[0mindex\u001b[0m\u001b[0;34m(\u001b[0m\u001b[0muser_id\u001b[0m\u001b[0;34m)\u001b[0m\u001b[0;34m\u001b[0m\u001b[0;34m\u001b[0m\u001b[0m\n\u001b[1;32m      5\u001b[0m \u001b[0muser_item\u001b[0m\u001b[0;34m.\u001b[0m\u001b[0miloc\u001b[0m\u001b[0;34m[\u001b[0m\u001b[0mget_user_index\u001b[0m\u001b[0;34m(\u001b[0m\u001b[0;36m2\u001b[0m\u001b[0;34m)\u001b[0m\u001b[0;34m,\u001b[0m\u001b[0mget_movie_index\u001b[0m\u001b[0;34m(\u001b[0m\u001b[0;36m5\u001b[0m\u001b[0;34m)\u001b[0m\u001b[0;34m]\u001b[0m\u001b[0;34m\u001b[0m\u001b[0;34m\u001b[0m\u001b[0m\n",
      "\u001b[0;31mValueError\u001b[0m: 5 is not in list"
     ]
    }
   ],
   "source": [
    "def get_movie_index(movie_id):\n",
    "    return movie_ids.index(movie_id)\n",
    "def get_user_index(user_id):\n",
    "    return selected_users.index(user_id)\n",
    "user_item.iloc[get_user_index(2),get_movie_index(5)]"
   ]
  },
  {
   "cell_type": "code",
   "execution_count": 137,
   "metadata": {},
   "outputs": [],
   "source": [
    "def matrix_factorization(R, P, Q, K, steps=5000, alpha=0.0002, beta=0.02):\n",
    "    Q = Q.T\n",
    "    for step in range(steps):\n",
    "        for i in range(len(R)):\n",
    "            for j in range(len(R[i])):\n",
    "                if R[i][j] > 0:\n",
    "                    eij = R[i][j] - np.dot(P[i,:],Q[:,j])\n",
    "                    for k in range(K):\n",
    "                        P[i][k] = P[i][k] + alpha * (2 * eij * Q[k][j] - beta * P[i][k])\n",
    "                        Q[k][j] = Q[k][j] + alpha * (2 * eij * P[i][k] - beta * Q[k][j])\n",
    "        eR = np.dot(P,Q)\n",
    "        e = 0\n",
    "        for i in range(len(R)):\n",
    "            for j in range(len(R[i])):\n",
    "                if R[i][j] > 0:\n",
    "                    e = e + pow(R[i][j] - np.dot(P[i,:],Q[:,j]), 2)\n",
    "                    for k in range(K):\n",
    "                        e = e + (beta/2) * ( pow(P[i][k],2) + pow(Q[k][j],2) )\n",
    "        if e < 0.001:\n",
    "            break\n",
    "    return P, Q.T"
   ]
  },
  {
   "cell_type": "code",
   "execution_count": 300,
   "metadata": {},
   "outputs": [],
   "source": [
    "R = [\n",
    "    [5,3,0,1],\n",
    "    [4,0,0,1],\n",
    "    [1,1,0,5],\n",
    "    [1,0,0,4],\n",
    "    [0,1,5,4],\n",
    "    ]\n",
    "\n",
    "R = np.array(user_item)\n",
    "\n",
    "N = len(R)\n",
    "M = len(R[0])\n",
    "K = 2\n",
    "\n",
    "P = np.random.rand(N,K)\n",
    "Q = np.random.rand(M,K)\n",
    "\n",
    "nP, nQ = matrix_factorization(R, P, Q, K)\n"
   ]
  },
  {
   "cell_type": "code",
   "execution_count": 301,
   "metadata": {},
   "outputs": [
    {
     "data": {
      "text/plain": [
       "array([[ 2.14580598,  3.02267694,  2.45248654, ...,  4.03749722,\n",
       "         4.07435343,  4.77272143],\n",
       "       [ 1.95801291,  2.31375003,  1.82648228, ...,  3.30137406,\n",
       "         3.36388875,  3.87496438],\n",
       "       [-0.36574701,  1.81231564,  1.7365511 , ...,  1.3166208 ,\n",
       "         1.15905796,  1.70086173],\n",
       "       ...,\n",
       "       [ 1.4019027 ,  2.45975889,  2.0512035 , ...,  3.05551932,\n",
       "         3.04807651,  3.64203223],\n",
       "       [ 1.71144789,  2.19971001,  1.76062572, ...,  3.03837993,\n",
       "         3.0814971 ,  3.57856074],\n",
       "       [ 1.93805735,  2.54043518,  2.03953692, ...,  3.48329307,\n",
       "         3.52890419,  4.10582759]])"
      ]
     },
     "execution_count": 301,
     "metadata": {},
     "output_type": "execute_result"
    }
   ],
   "source": [
    "np.dot(nP, nQ.T)"
   ]
  },
  {
   "cell_type": "code",
   "execution_count": 145,
   "metadata": {},
   "outputs": [],
   "source": [
    "from sklearn.decomposition import NMF"
   ]
  },
  {
   "cell_type": "code",
   "execution_count": 286,
   "metadata": {},
   "outputs": [],
   "source": [
    "R = [\n",
    "    [5,3,0,1],\n",
    "    [4,0,0,1],\n",
    "    [1,1,0,5],\n",
    "    [1,0,0,4],\n",
    "    [0,1,5,4],\n",
    "    ]\n",
    "\n",
    "R = np.array(R)\n",
    "\n",
    "N = len(R)\n",
    "M = len(R[0])\n",
    "K = 2\n",
    "\n",
    "P = np.random.rand(N,K)\n",
    "Q = np.random.rand(M,K)"
   ]
  },
  {
   "cell_type": "code",
   "execution_count": 287,
   "metadata": {},
   "outputs": [],
   "source": [
    "model = NMF(n_components=2,init='nndsvdar',alpha = 0.0002,max_iter = 5000)#, solver='mu',,beta_loss = 0.02"
   ]
  },
  {
   "cell_type": "code",
   "execution_count": 288,
   "metadata": {},
   "outputs": [],
   "source": [
    "W = model.fit_transform(R)\n",
    "Q = model.fit_transform(R.T)"
   ]
  },
  {
   "cell_type": "code",
   "execution_count": 289,
   "metadata": {},
   "outputs": [
    {
     "name": "stdout",
     "output_type": "stream",
     "text": [
      "[[6.31573814 2.39508596 0.         1.74849907]\n",
      " [4.21098723 1.59691174 0.         1.16580312]\n",
      " [1.57775063 0.98870796 1.70538754 3.57085054]\n",
      " [1.17921089 0.75307538 1.33626773 2.78217056]\n",
      " [0.         0.56869575 2.48433098 4.56554661]]\n"
     ]
    }
   ],
   "source": [
    "#np.argsort(r[0,:])[::-1]\n",
    "r = np.dot(W, Q.T)\n",
    "print(r)"
   ]
  },
  {
   "cell_type": "code",
   "execution_count": 297,
   "metadata": {},
   "outputs": [
    {
     "data": {
      "text/plain": [
       "15.36533632350893"
      ]
     },
     "execution_count": 297,
     "metadata": {},
     "output_type": "execute_result"
    }
   ],
   "source": [
    "sum(sum(abs(abs(r)-R)))"
   ]
  },
  {
   "cell_type": "code",
   "execution_count": 278,
   "metadata": {},
   "outputs": [],
   "source": [
    "from sklearn.decomposition import TruncatedSVD\n",
    "svd1 = TruncatedSVD(n_components=3, n_iter=500)\n",
    "svd2 = TruncatedSVD(n_components=3, n_iter=500)"
   ]
  },
  {
   "cell_type": "code",
   "execution_count": 279,
   "metadata": {},
   "outputs": [
    {
     "data": {
      "text/plain": [
       "TruncatedSVD(algorithm='randomized', n_components=3, n_iter=500,\n",
       "       random_state=None, tol=0.0)"
      ]
     },
     "execution_count": 279,
     "metadata": {},
     "output_type": "execute_result"
    }
   ],
   "source": [
    "svd1.fit(R)\n",
    "svd2.fit(R.T)"
   ]
  },
  {
   "cell_type": "code",
   "execution_count": 280,
   "metadata": {},
   "outputs": [
    {
     "name": "stdout",
     "output_type": "stream",
     "text": [
      "0.9435618011861971\n",
      "0.9516450659966224\n"
     ]
    }
   ],
   "source": [
    "print(svd1.explained_variance_ratio_.sum())\n",
    "print(svd2.explained_variance_ratio_.sum())"
   ]
  },
  {
   "cell_type": "code",
   "execution_count": 281,
   "metadata": {},
   "outputs": [],
   "source": [
    "W = svd1.transform(R)\n",
    "Q = svd2.transform(R.T)"
   ]
  },
  {
   "cell_type": "code",
   "execution_count": 282,
   "metadata": {},
   "outputs": [
    {
     "name": "stdout",
     "output_type": "stream",
     "text": [
      "[[ 3.79592137e+01  1.58392123e+01  2.24962843e+00  1.62926844e+01]\n",
      " [ 2.50805920e+01  1.01316363e+01 -2.71157766e-03  1.23316701e+01]\n",
      " [ 1.45023857e+01  7.96296112e+00  8.72672992e+00  3.88610359e+01]\n",
      " [ 1.09481410e+01  5.92484593e+00  6.18790975e+00  3.06147085e+01]\n",
      " [ 5.23038710e+00  9.19431537e+00  3.04959616e+01  3.85232104e+01]]\n"
     ]
    }
   ],
   "source": [
    "r = np.dot(W,Q.T)\n",
    "print(r)"
   ]
  },
  {
   "cell_type": "code",
   "execution_count": 315,
   "metadata": {},
   "outputs": [],
   "source": [
    "import numpy as np\n",
    "\n",
    "class MF():\n",
    "\n",
    "    def __init__(self, R, K, alpha, beta, iterations):\n",
    "        \"\"\"\n",
    "        Perform matrix factorization to predict empty\n",
    "        entries in a matrix.\n",
    "\n",
    "        Arguments\n",
    "        - R (ndarray)   : user-item rating matrix\n",
    "        - K (int)       : number of latent dimensions\n",
    "        - alpha (float) : learning rate\n",
    "        - beta (float)  : regularization parameter\n",
    "        \"\"\"\n",
    "\n",
    "        self.R = R\n",
    "        self.num_users, self.num_items = R.shape\n",
    "        self.K = K\n",
    "        self.alpha = alpha\n",
    "        self.beta = beta\n",
    "        self.iterations = iterations\n",
    "\n",
    "    def train(self):\n",
    "        # Initialize user and item latent feature matrice\n",
    "        self.P = np.random.normal(scale=1./self.K, size=(self.num_users, self.K))\n",
    "        self.Q = np.random.normal(scale=1./self.K, size=(self.num_items, self.K))\n",
    "\n",
    "        # Initialize the biases\n",
    "        self.b_u = np.zeros(self.num_users,dtype=np.float64)\n",
    "        self.b_i = np.zeros(self.num_items,dtype=np.float64)\n",
    "        self.b = np.mean(self.R[np.where(self.R != 0)])\n",
    "\n",
    "        # Create a list of training samples\n",
    "        self.samples = [\n",
    "            (i, j, self.R[i, j])\n",
    "            for i in range(self.num_users)\n",
    "            for j in range(self.num_items)\n",
    "            if self.R[i, j] > 0\n",
    "        ]\n",
    "\n",
    "        # Perform stochastic gradient descent for number of iterations\n",
    "        training_process = []\n",
    "        for i in range(self.iterations):\n",
    "            np.random.shuffle(self.samples)\n",
    "            self.sgd()\n",
    "            mse = self.mse()\n",
    "            training_process.append((i, mse))\n",
    "            if (i+1) % 10 == 0:\n",
    "                print(\"Iteration: %d ; error = %.4f\" % (i+1, mse))\n",
    "\n",
    "        return training_process\n",
    "\n",
    "    def mse(self):\n",
    "        \"\"\"\n",
    "        A function to compute the total mean square error\n",
    "        \"\"\"\n",
    "        xs, ys = self.R.nonzero()\n",
    "        predicted = self.full_matrix()\n",
    "        error = 0\n",
    "        for x, y in zip(xs, ys):\n",
    "            error += pow(self.R[x, y] - predicted[x, y], 2)\n",
    "        return np.sqrt(error)\n",
    "\n",
    "    def sgd(self):\n",
    "        \"\"\"\n",
    "        Perform stochastic graident descent\n",
    "        \"\"\"\n",
    "        for i, j, r in self.samples:\n",
    "            # Computer prediction and error\n",
    "            prediction = self.get_rating(i, j)\n",
    "            e = (r - prediction)\n",
    "\n",
    "            # Update biases\n",
    "            self.b_u[i] += self.alpha * (e - self.beta * self.b_u[i])\n",
    "            self.b_i[j] += self.alpha * (e - self.beta * self.b_i[j])\n",
    "\n",
    "            # Update user and item latent feature matrices\n",
    "            self.P[i, :] += self.alpha * (e * self.Q[j, :] - self.beta * self.P[i,:])\n",
    "            self.Q[j, :] += self.alpha * (e * self.P[i, :] - self.beta * self.Q[j,:])\n",
    "\n",
    "    def get_rating(self, i, j):\n",
    "        \"\"\"\n",
    "        Get the predicted rating of user i and item j\n",
    "        \"\"\"\n",
    "        prediction = self.b + self.b_u[i] + self.b_i[j] + self.P[i, :].dot(self.Q[j, :].T)\n",
    "        return prediction\n",
    "\n",
    "    def full_matrix(self):\n",
    "        \"\"\"\n",
    "        Computer the full matrix using the resultant biases, P and Q\n",
    "        \"\"\"\n",
    "        return self.b + self.b_u[:,np.newaxis] + self.b_i[np.newaxis:,] + self.P.dot(self.Q.T)"
   ]
  },
  {
   "cell_type": "code",
   "execution_count": 339,
   "metadata": {},
   "outputs": [
    {
     "name": "stdout",
     "output_type": "stream",
     "text": [
      "Iteration: 10 ; error = 247.0071\n",
      "Iteration: 20 ; error = 239.9177\n",
      "Iteration: 30 ; error = 235.7270\n",
      "Iteration: 40 ; error = 232.6175\n",
      "Iteration: 50 ; error = 230.0171\n",
      "Iteration: 60 ; error = 227.6430\n",
      "Iteration: 70 ; error = 225.3250\n",
      "Iteration: 80 ; error = 222.9218\n",
      "Iteration: 90 ; error = 220.3200\n",
      "Iteration: 100 ; error = 217.4239\n",
      "Iteration: 110 ; error = 214.1760\n",
      "Iteration: 120 ; error = 210.5677\n",
      "Iteration: 130 ; error = 206.6470\n",
      "Iteration: 140 ; error = 202.5168\n",
      "Iteration: 150 ; error = 198.3061\n",
      "Iteration: 160 ; error = 194.1394\n",
      "Iteration: 170 ; error = 190.1098\n",
      "Iteration: 180 ; error = 186.2798\n",
      "Iteration: 190 ; error = 182.6813\n",
      "Iteration: 200 ; error = 179.3171\n",
      "\n",
      "P x Q:\n",
      "[[4.31335307 4.26009588 4.17952367 ... 4.14315139 4.12162106 4.25694641]\n",
      " [3.52418421 3.57995049 3.59607691 ... 3.50296246 3.50178425 3.65321234]\n",
      " [2.76340611 2.77133026 2.7453455  ... 2.75083099 2.72291237 3.03618502]\n",
      " ...\n",
      " [3.60328256 3.16586625 2.89685653 ... 3.27939116 3.16352586 3.2285583 ]\n",
      " [3.3196109  3.26626998 3.18710587 ... 3.23295067 3.20095704 3.29806134]\n",
      " [3.6972464  3.59869163 3.45228003 ... 3.63410762 3.56408804 3.78229857]]\n",
      "\n",
      "Global bias:\n",
      "3.480976428750843\n",
      "\n",
      "User bias:\n",
      "[ 8.06066976e-01  7.43824656e-02 -6.89868128e-01 -1.65463625e-01\n",
      " -1.38077395e-01  5.50650683e-02 -5.39504758e-01 -2.23179620e-02\n",
      " -3.80292057e-01 -1.53545338e-01  2.57801054e-01  9.90892485e-01\n",
      "  1.93463534e-01 -1.86582189e-01 -2.01972950e-01 -3.03326944e-01\n",
      "  2.19294600e-01  2.17473374e-02 -7.17923423e-01 -5.07697245e-02\n",
      " -2.95181924e-01 -1.66447003e+00 -1.79545965e-01 -1.26054411e-01\n",
      "  7.91886099e-01 -2.65635231e-01 -9.34983691e-02 -6.97011984e-01\n",
      "  2.74497030e-01  8.10652641e-01  2.80571323e-01  1.41420638e-01\n",
      "  1.07132416e-01  5.72280649e-03  4.67543316e-01 -8.54783319e-01\n",
      "  3.20675836e-01 -3.63807510e-01  7.89200655e-02  2.88701720e-01\n",
      " -4.00701103e-01  1.22723011e-01  1.06021817e+00 -1.78568010e-01\n",
      "  3.36918395e-01  5.16535064e-01 -5.98580580e-01  4.59930908e-01\n",
      "  3.26159963e-01 -1.03561725e+00  3.47651091e-01  7.02750659e-01\n",
      " -5.83568562e-01 -5.51616923e-01  2.72740135e-01 -1.73184459e-01\n",
      "  4.13488997e-01  5.71651711e-01  6.48414394e-02  6.11129303e-02\n",
      "  3.60057757e-01 -1.47778749e-01  6.46123560e-02  1.04929972e-01\n",
      "  4.04444209e-01  1.26880852e-02 -2.51671563e-01  5.02843395e-01\n",
      "  3.18055236e-01  9.32032256e-02  2.59010208e-01  4.21385006e-02\n",
      "  3.08733279e-01 -5.78617900e-01 -5.44848087e-01 -4.02749776e-02\n",
      " -6.31853946e-01  2.62735769e-01  6.52410653e-01 -8.49478641e-01\n",
      "  5.62618003e-02 -4.29630755e-01 -3.02067891e-03 -2.92202577e-01\n",
      "  2.45964457e-01  2.70604701e-01  3.06960691e-02  2.36368856e-01\n",
      "  3.60669348e-01 -1.09628192e-01  3.14305491e-01  8.54887382e-01\n",
      " -4.04898413e-01  2.91719299e-01  6.69399200e-02  7.53381392e-01\n",
      "  1.82697194e-01  4.54010653e-01  3.10495445e-01 -5.26374623e-02\n",
      " -1.56820758e-01  2.04431194e-01 -5.91242717e-03  4.90311322e-01\n",
      "  6.77857441e-01  3.49196969e-01  3.24208471e-01 -3.40591774e-01\n",
      "  4.40699008e-02 -1.58979124e-01 -1.07423402e-01  3.22036375e-02\n",
      " -2.38065468e-01  2.99183367e-01 -2.75508478e-01 -1.97222920e-01\n",
      "  1.01382829e-01  5.43578405e-01 -1.89621790e-01 -4.23581218e-01\n",
      "  7.20935343e-01  1.57337994e-01  1.65863645e-01  1.86915544e-01\n",
      " -4.14892976e-01 -6.91797565e-01  2.93711074e-01  2.82627933e-01\n",
      "  2.31744135e-02 -5.40249771e-01 -6.24475076e-01 -7.21888896e-01\n",
      "  1.59024365e-01  4.27372066e-02 -1.64492866e-01  5.82253492e-02\n",
      " -2.20454240e-01 -1.52043710e+00 -1.43386116e-01 -1.27671999e-01\n",
      "  1.07865516e-01 -1.80593642e-01 -1.44337026e-01 -2.75102977e-01\n",
      " -2.07705899e-01 -6.39159170e-02 -6.98077919e-01 -3.36200288e-02\n",
      "  1.85915012e-01 -9.11881007e-03 -1.40204044e+00  4.79322607e-01\n",
      "  2.58102265e-01 -1.14727574e-01 -2.79976943e-02  9.22531226e-02\n",
      " -5.34917689e-01 -6.72696090e-01  7.04741813e-02  4.69729864e-01\n",
      " -4.90354263e-01  3.78139430e-01 -1.67341424e-01  3.18259427e-01\n",
      " -2.26596708e-01  5.39817541e-01  6.86383733e-01 -3.31401467e-01\n",
      "  8.23072984e-01  3.80326771e-02 -1.54499693e-01  2.05927132e-01\n",
      "  3.01170434e-01  4.26484666e-01 -1.70266844e-01  1.31648105e-01\n",
      "  2.76833351e-01 -2.35255576e-01 -4.77269912e-01 -1.37863762e-01\n",
      " -5.64421078e-02  4.62660261e-02 -6.55340103e-02  4.91193844e-01\n",
      "  9.99995655e-02  4.99690083e-01  1.37116773e-01  1.19581452e-02\n",
      "  4.55272707e-01 -4.66329377e-02 -1.95814819e-01 -1.08019976e-01\n",
      "  2.22556008e-01 -2.96042438e-01 -2.91149997e-01  2.66006120e-01\n",
      "  4.18052510e-01  1.10252479e-01  2.41550639e-01  1.04141543e-01\n",
      "  8.68193640e-02  2.98511831e-01 -1.29258534e-01  1.82567685e-01\n",
      "  4.26014327e-01  6.99085129e-02 -8.56703776e-02  3.22101418e-01\n",
      " -5.57809534e-01  1.72966633e-01 -1.35327168e-01 -6.50638125e-01\n",
      " -4.64113127e-01 -4.66883591e-01  8.61367783e-02  2.63753139e-01\n",
      " -4.16709282e-01 -4.74529621e-01  6.01053379e-01 -3.59914156e-02\n",
      " -1.12697266e-01  3.57222804e-01  3.22059289e-01  7.76675820e-02\n",
      " -6.75937091e-01 -1.95751037e-01 -2.16074165e-01 -6.17728893e-01\n",
      "  2.51110357e-01  5.56603051e-02  4.87561636e-01 -3.41629987e-01\n",
      "  3.50995682e-01  2.08016269e-01  4.34273652e-01  1.29294832e-01\n",
      "  9.54680957e-02  6.61047545e-01  7.94583424e-02 -9.66954619e-01\n",
      "  5.10641058e-01 -1.78853681e-01  6.87416037e-02  1.88445914e-01\n",
      "  6.43392975e-01  6.95672146e-01  2.60491066e-01  4.89972001e-01\n",
      "  1.08605715e-01 -1.23607179e+00  2.77982070e-01  8.77967689e-02\n",
      " -3.61724274e-01 -9.85286258e-02 -4.75426518e-02 -4.36859405e-01\n",
      " -7.62759488e-02 -1.31809548e-02 -2.42669273e-01 -1.63763514e-01\n",
      "  3.70851470e-01 -4.63243189e-01  5.09255522e-02 -3.97185366e-01\n",
      " -5.56396220e-01 -2.64257265e-01  3.78853476e-01 -2.57588290e-01\n",
      "  2.52304369e-01  9.02967357e-01  2.54533923e-01 -2.99946664e-01\n",
      "  4.18164338e-01 -2.07855880e-01  2.96080398e-01 -2.63165138e-01\n",
      "  4.20043081e-01 -1.29737071e-01 -3.88946567e-02 -1.11565026e+00\n",
      " -4.07901482e-01  3.20225463e-02  2.80231858e-01  4.57700605e-01\n",
      " -2.71798445e-01 -7.18376340e-01 -6.95097378e-01 -3.74202797e-01\n",
      "  1.12238523e-01 -8.66650301e-01 -1.36877144e+00  2.36595546e-01\n",
      "  3.13885387e-01 -5.33158213e-01  1.86330083e-01  3.42227217e-01\n",
      "  2.86250705e-01  2.71791449e-01 -1.65336705e-01 -8.15977066e-01\n",
      " -1.26900872e+00 -5.09696431e-02  4.95665803e-02 -1.26642617e+00\n",
      "  1.90270342e-02  3.25722276e-02 -4.88423275e-01 -5.40183483e-01\n",
      " -4.73201106e-01 -2.89494039e-01  1.69534102e-01  5.00074212e-01\n",
      "  1.21901522e-02 -4.77459481e-01 -4.25481627e-01 -3.90451986e-01\n",
      " -1.29887656e-01  2.11672188e-01  5.16668694e-01 -8.43658898e-01\n",
      " -9.58356736e-01  2.16998838e-02 -9.41262493e-02 -2.14184821e-01\n",
      " -6.34886376e-01 -4.08485043e-01 -1.54056446e-01  4.47032078e-01\n",
      "  7.82722429e-01 -1.27328763e+00  3.23262412e-01  5.92290729e-01\n",
      "  3.26662960e-01 -3.39409635e-01  1.49654505e-01 -1.93449621e-01\n",
      "  3.19090966e-01 -5.91435537e-02 -4.42438779e-04  7.67239041e-01\n",
      "  8.10435945e-02 -2.43440078e-01 -1.26590500e-03  1.34757109e-01\n",
      " -1.58637077e-02  9.58661574e-02  4.66279928e-01  1.49239173e-01\n",
      "  2.59611378e-01 -3.15619595e-01 -1.84170875e-01  2.43823773e-01\n",
      " -2.17523889e-01  3.84816745e-01 -4.81880245e-01  5.00903543e-01\n",
      " -6.88418319e-01 -5.04156340e-02  2.19158928e-01 -6.70524565e-01\n",
      " -2.91162436e-01 -2.25153290e-01  8.08461236e-01 -3.65665879e-01\n",
      " -2.65428624e-01 -5.07114700e-02  4.84153698e-01  2.64662310e-01\n",
      "  3.00480655e-01 -2.21688681e-02 -2.82442233e-01  1.42521815e-01\n",
      "  3.56210498e-02 -5.34720832e-02  2.18175412e-01 -4.62116307e-01\n",
      " -2.48850420e-01 -7.93059875e-01 -3.90487288e-01  5.36026368e-01\n",
      "  6.32855527e-01  1.38704508e-01 -1.52820297e-01 -9.51024909e-02\n",
      " -5.35429759e-02 -7.46351837e-01 -3.43984194e-01 -5.07959407e-01\n",
      "  1.10032101e-02  1.96937697e-01 -1.11292240e-01  3.81786285e-01\n",
      " -1.66339908e-01  3.99533933e-01 -6.09468242e-02 -2.77017509e-01\n",
      "  2.37964753e-01  3.48084504e-01  4.27469420e-01  4.87211804e-02\n",
      "  3.13341142e-01 -3.12437879e-01  5.77564547e-02  7.66762706e-01\n",
      " -1.76487980e-01  1.90270664e-01 -7.53951083e-01  6.07978790e-01\n",
      " -3.24215559e-01  3.71587480e-01  1.08693789e-01  2.17982247e-01\n",
      " -3.72096366e-01 -1.29277253e-01 -4.29700760e-02 -1.36939430e-01\n",
      " -2.59389950e-01 -4.47514953e-01 -7.03160509e-01  4.75889822e-01\n",
      "  1.08605908e-01  4.18050519e-02 -3.12433071e-01 -9.38505204e-02\n",
      "  5.01904796e-01 -2.67582525e-01  1.76691715e-01 -1.78150832e-01\n",
      "  1.19186903e-01  8.17950808e-02  8.19623123e-01  2.45242548e-01\n",
      "  1.36884028e-01 -1.69545084e-01 -3.63948949e-01  4.17470807e-01\n",
      " -6.91974912e-01 -5.05788781e-01  4.40722324e-01  5.78090857e-02\n",
      "  1.01645760e+00  2.83769767e-01 -8.16296180e-02 -1.04940754e-01\n",
      "  5.55457259e-01 -1.63984000e-01  4.61345475e-01  5.86168584e-01\n",
      "  4.54815304e-01 -8.76587725e-01 -2.26309287e-01  1.30200559e-01\n",
      "  8.74727582e-02  3.86855569e-01  3.31453136e-01 -4.23604070e-01\n",
      " -2.86042722e-01 -1.35388461e-02  9.10249580e-02 -1.66094023e-01\n",
      "  2.31823779e-01  4.59874168e-03 -1.75795705e-01  7.65204252e-01\n",
      "  1.46334711e-01  1.71417586e-01 -6.90357139e-01 -1.66857733e-01\n",
      " -4.00959660e-01 -5.63447407e-01 -1.38858942e-01  5.33796438e-02\n",
      "  2.77063118e-01  1.76470931e-01  4.32151283e-01 -8.09039949e-01\n",
      "  2.02739110e-02 -5.29736112e-01 -5.37106352e-01  4.06482210e-01\n",
      "  5.22700677e-01 -8.67231035e-02  5.05134295e-01  3.06073934e-01\n",
      " -2.89080938e-01 -3.37927959e-01  4.96708230e-01  8.42091453e-02\n",
      " -3.49566831e-01 -2.48438685e-01 -3.24159118e-01 -5.20848847e-01\n",
      "  1.49287746e-01  5.32621285e-01 -5.30255164e-01 -2.77892713e-01\n",
      " -1.37592863e+00 -3.57253265e-01 -7.60788461e-01  2.92824419e-01\n",
      "  4.85924042e-03 -6.63634842e-02 -4.14948990e-01  8.33540100e-01\n",
      " -7.43557653e-02 -1.27598891e+00  1.99056745e-01  5.71431666e-01\n",
      "  3.20915441e-01  1.39975472e-01  1.72454051e-02  9.05494088e-01\n",
      " -8.73066642e-02 -1.80787986e-01  3.72553395e-01  5.40181944e-01\n",
      " -4.46094647e-01 -9.25151073e-02  2.09560752e-01 -7.74092832e-02\n",
      "  3.91501629e-01  4.81137301e-01  2.52221313e-01 -6.39450421e-01\n",
      " -8.83886597e-02  3.45861681e-01  5.18752919e-01  2.01723379e-01\n",
      "  2.30735461e-01 -1.62235359e-01 -3.33328693e-01  8.52389201e-01\n",
      "  1.04868480e+00  1.62775552e-02  1.29336169e-01  2.13986163e-01\n",
      "  3.85144251e-01 -1.61921291e-01  2.25639737e-01 -1.25124435e-03\n",
      " -4.78904361e-01  5.97414416e-01  2.57914214e-01 -3.38565252e-02\n",
      "  4.63375492e-01 -4.19782746e-02  5.18223698e-01 -1.57210596e-01\n",
      " -1.45800910e-01 -4.49138570e-01  4.05320937e-01 -2.27763925e-01\n",
      "  1.68099733e-03 -6.90956454e-03 -1.42024410e-01 -1.52852825e+00\n",
      "  3.95743609e-01 -3.04611022e-01 -7.70721923e-01  3.08228990e-01\n",
      "  5.03382197e-01  3.57609263e-01 -2.44198873e-01 -1.48109587e-01\n",
      "  4.56050093e-01  3.82667814e-01 -3.45511102e-02  3.18345213e-01\n",
      "  1.57037488e-01 -3.35016133e-01  5.81416188e-01  5.01330825e-01\n",
      "  8.03719569e-01  3.80178520e-01 -3.97282118e-01  3.35884379e-01\n",
      " -3.49864321e-01 -2.89085991e-01  1.51889388e-01 -5.50295708e-01\n",
      "  2.47764581e-01 -1.36085313e-01  3.43253396e-01  7.19647062e-01\n",
      " -9.22041255e-01 -5.92130919e-01  4.47342056e-01 -1.88561725e-01\n",
      " -2.24957041e-01  1.33022134e-01 -2.40222808e-01 -2.75994209e-03\n",
      "  2.14579205e-01 -1.47927856e-01 -2.51380588e-01  4.83264242e-02]\n",
      "\n",
      "Item bias:\n",
      "[ 0.          0.          0.         ... -0.01822388 -0.01184673\n",
      "  0.08273724]\n"
     ]
    }
   ],
   "source": [
    "R = np.array([\n",
    "    [5, 3, 0, 1],\n",
    "    [4, 0, 0, 1],\n",
    "    [1, 1, 0, 5],\n",
    "    [1, 0, 0, 4],\n",
    "    [0, 1, 5, 4],\n",
    "])\n",
    "R = np.array(user_item)\n",
    "mf = MF(R, K=10, alpha=0.001, beta=0.01, iterations=200)\n",
    "training_process = mf.train()\n",
    "print()\n",
    "print(\"P x Q:\")\n",
    "print(mf.full_matrix())\n",
    "print()\n",
    "print(\"Global bias:\")\n",
    "print(mf.b)\n",
    "print()\n",
    "print(\"User bias:\")\n",
    "print(mf.b_u)\n",
    "print()\n",
    "print(\"Item bias:\")\n",
    "print(mf.b_i)"
   ]
  },
  {
   "cell_type": "code",
   "execution_count": 350,
   "metadata": {},
   "outputs": [
    {
     "data": {
      "image/png": "[encoded data removed]",
      "text/plain": [
       "<Figure size 1152x288 with 1 Axes>"
      ]
     },
     "metadata": {
      "needs_background": "light"
     },
     "output_type": "display_data"
    }
   ],
   "source": [
    "x = [x for x, y in training_process]\n",
    "y = [y for x, y in training_process]\n",
    "plt.figure(figsize=((16,4)))\n",
    "plt.plot(x, y)\n",
    "plt.xticks(x, x)\n",
    "plt.xlabel(\"Iterations\")\n",
    "plt.ylabel(\"Mean Square Error\")\n",
    "plt.grid(axis=\"y\")"
   ]
  },
  {
   "cell_type": "code",
   "execution_count": 341,
   "metadata": {},
   "outputs": [],
   "source": [
    "predicted_matrix = mf.full_matrix()"
   ]
  },
  {
   "cell_type": "code",
   "execution_count": 342,
   "metadata": {},
   "outputs": [
    {
     "data": {
      "text/plain": [
       "4.1360610108166584"
      ]
     },
     "execution_count": 342,
     "metadata": {},
     "output_type": "execute_result"
    }
   ],
   "source": [
    "predicted_matrix[get_user_index(2),get_movie_index(58559)]"
   ]
  },
  {
   "cell_type": "code",
   "execution_count": 347,
   "metadata": {},
   "outputs": [],
   "source": [
    "def get_ranked_item_list(user_id,n = 10):\n",
    "    result = np.argsort(predicted_matrix[get_user_index(user_id),:])[::-1]\n",
    "    result = [movie_ids[i] for i in result]\n",
    "    return result[:n]"
   ]
  },
  {
   "cell_type": "code",
   "execution_count": 349,
   "metadata": {},
   "outputs": [
    {
     "data": {
      "text/plain": [
       "[1266, 1196, 3451, 1233, 750, 1230, 356, 71899, 318, 4306]"
      ]
     },
     "execution_count": 349,
     "metadata": {},
     "output_type": "execute_result"
    }
   ],
   "source": [
    "user_id = 1\n",
    "get_ranked_item_list(user_id)"
   ]
  },
  {
   "cell_type": "code",
   "execution_count": 353,
   "metadata": {},
   "outputs": [
    {
     "data": {
      "text/html": [
       "<div>\n",
       "<style scoped>\n",
       "    .dataframe tbody tr th:only-of-type {\n",
       "        vertical-align: middle;\n",
       "    }\n",
       "\n",
       "    .dataframe tbody tr th {\n",
       "        vertical-align: top;\n",
       "    }\n",
       "\n",
       "    .dataframe thead th {\n",
       "        text-align: right;\n",
       "    }\n",
       "</style>\n",
       "<table border=\"1\" class=\"dataframe\">\n",
       "  <thead>\n",
       "    <tr style=\"text-align: right;\">\n",
       "      <th></th>\n",
       "      <th>userId</th>\n",
       "      <th>movieId</th>\n",
       "      <th>rating</th>\n",
       "      <th>timestamp</th>\n",
       "    </tr>\n",
       "  </thead>\n",
       "  <tbody>\n",
       "    <tr>\n",
       "      <th>0</th>\n",
       "      <td>1</td>\n",
       "      <td>1</td>\n",
       "      <td>4.0</td>\n",
       "      <td>964982703</td>\n",
       "    </tr>\n",
       "    <tr>\n",
       "      <th>1</th>\n",
       "      <td>1</td>\n",
       "      <td>3</td>\n",
       "      <td>4.0</td>\n",
       "      <td>964981247</td>\n",
       "    </tr>\n",
       "    <tr>\n",
       "      <th>2</th>\n",
       "      <td>1</td>\n",
       "      <td>6</td>\n",
       "      <td>4.0</td>\n",
       "      <td>964982224</td>\n",
       "    </tr>\n",
       "    <tr>\n",
       "      <th>3</th>\n",
       "      <td>1</td>\n",
       "      <td>47</td>\n",
       "      <td>5.0</td>\n",
       "      <td>964983815</td>\n",
       "    </tr>\n",
       "    <tr>\n",
       "      <th>4</th>\n",
       "      <td>1</td>\n",
       "      <td>50</td>\n",
       "      <td>5.0</td>\n",
       "      <td>964982931</td>\n",
       "    </tr>\n",
       "  </tbody>\n",
       "</table>\n",
       "</div>"
      ],
      "text/plain": [
       "  userId movieId  rating  timestamp\n",
       "0      1       1     4.0  964982703\n",
       "1      1       3     4.0  964981247\n",
       "2      1       6     4.0  964982224\n",
       "3      1      47     5.0  964983815\n",
       "4      1      50     5.0  964982931"
      ]
     },
     "execution_count": 353,
     "metadata": {},
     "output_type": "execute_result"
    }
   ],
   "source": [
    "test.head()"
   ]
  },
  {
   "cell_type": "code",
   "execution_count": 367,
   "metadata": {},
   "outputs": [
    {
     "name": "stdout",
     "output_type": "stream",
     "text": [
      "0.9399231078700301\n"
     ]
    }
   ],
   "source": [
    "#RMSE score for test data.\n",
    "score = 0\n",
    "for i in range(test.shape[0]):\n",
    "    actual = test.iloc[i,2]\n",
    "    predicted = predicted_matrix[get_user_index(test.iloc[i,0]),get_movie_index(test.iloc[i,1])]\n",
    "    score = score + (actual-predicted)**2\n",
    "print(np.sqrt(score/test.shape[0]))"
   ]
  },
  {
   "cell_type": "code",
   "execution_count": null,
   "metadata": {},
   "outputs": [],
   "source": []
  },
  {
   "cell_type": "code",
   "execution_count": null,
   "metadata": {},
   "outputs": [],
   "source": []
  }
 ],
 "metadata": {
  "kernelspec": {
   "display_name": "Python 3",
   "language": "python",
   "name": "python3"
  },
  "language_info": {
   "codemirror_mode": {
    "name": "ipython",
    "version": 3
   },
   "file_extension": ".py",
   "mimetype": "text/x-python",
   "name": "python",
   "nbconvert_exporter": "python",
   "pygments_lexer": "ipython3",
   "version": "3.7.3"
  }
 },
 "nbformat": 4,
 "nbformat_minor": 2
}
